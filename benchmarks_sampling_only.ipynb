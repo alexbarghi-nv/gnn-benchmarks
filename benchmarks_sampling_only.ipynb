{
 "cells": [
  {
   "cell_type": "code",
   "execution_count": 1,
   "metadata": {},
   "outputs": [],
   "source": [
    "import rmm\n",
    "\n",
    "rmm.reinitialize(pool_allocator=True,initial_pool_size=5e+9, maximum_pool_size=20e+9)"
   ]
  },
  {
   "cell_type": "code",
   "execution_count": 1,
   "metadata": {},
   "outputs": [],
   "source": [
    "import cudf\n",
    "import cugraph\n",
    "from cugraph.experimental import PropertyGraph"
   ]
  },
  {
   "cell_type": "code",
   "execution_count": 2,
   "metadata": {},
   "outputs": [],
   "source": [
    "import cugraph\n",
    "import cudf\n",
    "from ogb.nodeproppred import NodePropPredDataset\n",
    "\n",
    "dataset = NodePropPredDataset(name = 'ogbn-mag', root='/work/dataset/') \n",
    "\n",
    "data = dataset[0]\n",
    "\n",
    "edgelist = cudf.DataFrame()\n",
    "for elt in list(data[0]['edge_index_dict'].values()):\n",
    "    elt_df = cudf.DataFrame({\n",
    "        'src': cudf.from_dlpack(elt[0].__dlpack__()),\n",
    "        'dst': cudf.from_dlpack(elt[1].__dlpack__())\n",
    "    })\n",
    "    edgelist = cudf.concat([edgelist, elt_df])\n",
    "edgelist['weight']=1.\n",
    "\n",
    "sg = cugraph.Graph()\n",
    "sg.from_cudf_edgelist(edgelist, source='src', destination='dst', edge_attr='weight', legacy_renum_only=True)"
   ]
  },
  {
   "cell_type": "code",
   "execution_count": 3,
   "metadata": {},
   "outputs": [],
   "source": [
    "def exec_gpu_cugraph(batch, fanout):\n",
    "    cugraph.uniform_neighbor_sample(sg, batch, [fanout,fanout], True)"
   ]
  },
  {
   "cell_type": "code",
   "execution_count": 4,
   "metadata": {},
   "outputs": [],
   "source": [
    "from datetime import datetime\n",
    "import numpy as np\n",
    "import cupy\n",
    "from time import sleep\n",
    "\n",
    "batch_size = 1000\n",
    "tries = 10\n",
    "\n",
    "res_cugraph = np.empty(99)\n",
    "\n",
    "for i, fanout in enumerate(range(1,100)):\n",
    "    batch = cudf.Series(cupy.random.randint(low=0, high=sg.number_of_vertices(), size=batch_size))\n",
    "    start_time = datetime.now()\n",
    "    for _ in range(tries):\n",
    "        exec_gpu_cugraph(batch, fanout)\n",
    "    end_time = datetime.now()\n",
    "    sleep(0.01)\n",
    "    total_time = (end_time - start_time).total_seconds() / tries\n",
    "    res_cugraph[i] = total_time"
   ]
  },
  {
   "cell_type": "code",
   "execution_count": 5,
   "metadata": {},
   "outputs": [],
   "source": [
    "import torch\n",
    "from torch_geometric.data import Data\n",
    "\n",
    "data = Data(\n",
    "    edge_index=torch.stack([\n",
    "        torch.from_dlpack(sg.edgelist.edgelist_df.dst.to_dlpack()),\n",
    "        torch.from_dlpack(sg.edgelist.edgelist_df.src.to_dlpack())\n",
    "    ]),\n",
    "    num_nodes=sg.number_of_vertices()\n",
    ")"
   ]
  },
  {
   "cell_type": "code",
   "execution_count": 6,
   "metadata": {},
   "outputs": [],
   "source": [
    "import torch\n",
    "from torch_geometric.loader.utils import to_csc\n",
    "sample_fn = torch.ops.torch_sparse.neighbor_sample\n",
    "\n",
    "out = to_csc(data, device='cpu', share_memory=False,\n",
    "                is_sorted=False)\n",
    "colptr, row, perm = out\n",
    "\n",
    "def exec_cpu_pyg(batch, fanout):\n",
    "\n",
    "\n",
    "    sample_fn(\n",
    "        colptr,\n",
    "        row,\n",
    "        batch,\n",
    "        [fanout, fanout],\n",
    "        True,\n",
    "        True,\n",
    "    )"
   ]
  },
  {
   "cell_type": "code",
   "execution_count": 7,
   "metadata": {},
   "outputs": [],
   "source": [
    "from datetime import datetime\n",
    "import numpy as np\n",
    "from time import sleep\n",
    "\n",
    "import torch\n",
    "\n",
    "batch_size = 1000\n",
    "tries = 10\n",
    "\n",
    "res_pyg_cpu = np.empty(99)\n",
    "\n",
    "for i, fanout in enumerate(range(1,100)):\n",
    "    batch = torch.Tensor(np.random.randint(low=0, high=sg.number_of_vertices(), size=batch_size)).to(torch.long)\n",
    "    start_time = datetime.now()\n",
    "    for _ in range(tries):\n",
    "        exec_cpu_pyg(batch, fanout)\n",
    "    end_time = datetime.now()\n",
    "    sleep(0.01)\n",
    "    total_time = (end_time - start_time).total_seconds() / tries\n",
    "    res_pyg_cpu[i] = total_time"
   ]
  },
  {
   "cell_type": "code",
   "execution_count": 8,
   "metadata": {},
   "outputs": [
    {
     "data": {
      "image/png": "[encoded data removed]",
      "text/plain": [
       "<Figure size 432x288 with 1 Axes>"
      ]
     },
     "metadata": {
      "needs_background": "light"
     },
     "output_type": "display_data"
    }
   ],
   "source": [
    "from matplotlib import pyplot as plt\n",
    "plt.plot(np.array(range(1,100)), res_cugraph, label='cuGraph GPU Sampler')\n",
    "plt.plot(np.array(range(1,100)), res_pyg_cpu, label='PyG CPU Sampler')\n",
    "plt.xlabel('Fanout (# neighbor nodes sampled)')\n",
    "plt.ylabel('Average Sampling Compute Time (s)')\n",
    "plt.title('2-Hop Neighbor Sampling for MAG Data on A100')\n",
    "plt.legend(loc='center right')\n",
    "plt.grid()"
   ]
  },
  {
   "cell_type": "code",
   "execution_count": null,
   "metadata": {},
   "outputs": [],
   "source": [
    "import pandas as pd\n",
    "df = pd.DataFrame({\n",
    "    'res_pyg_cpu': res_pyg_cpu,\n",
    "    'res_cugraph': res_cugraph\n",
    "})\n",
    "\n",
    "df.to_csv('./benchmark1.csv')"
   ]
  },
  {
   "cell_type": "code",
   "execution_count": null,
   "metadata": {},
   "outputs": [],
   "source": []
  }
 ],
 "metadata": {
  "kernelspec": {
   "display_name": "Python 3.9.7 ('base')",
   "language": "python",
   "name": "python3"
  },
  "language_info": {
   "codemirror_mode": {
    "name": "ipython",
    "version": 3
   },
   "file_extension": ".py",
   "mimetype": "text/x-python",
   "name": "python",
   "nbconvert_exporter": "python",
   "pygments_lexer": "ipython3",
   "version": "3.9.13"
  },
  "orig_nbformat": 4,
  "vscode": {
   "interpreter": {
    "hash": "f708a36acfaef0acf74ccd43dfb58100269bf08fb79032a1e0a6f35bd9856f51"
   }
  }
 },
 "nbformat": 4,
 "nbformat_minor": 2
}
